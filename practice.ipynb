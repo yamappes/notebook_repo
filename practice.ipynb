{
 "cells": [
  {
   "cell_type": "code",
   "execution_count": null,
   "id": "f39446d0-3e12-4c77-99e6-ba91971fc375",
   "metadata": {},
   "outputs": [],
   "source": [
    "import math"
   ]
  },
  {
   "cell_type": "code",
   "execution_count": null,
   "id": "aad55bdc-de98-4af3-85e7-ba7a065a5847",
   "metadata": {},
   "outputs": [],
   "source": [
    "print(math.pow(2, 2))"
   ]
  },
  {
   "cell_type": "code",
   "execution_count": null,
   "id": "28cacb00-d594-4555-b106-9c80e42886a9",
   "metadata": {},
   "outputs": [],
   "source": [
    "def calc_cube(a=0):\n",
    "    return a ** 3"
   ]
  },
  {
   "cell_type": "code",
   "execution_count": null,
   "id": "2fa2502d-8e8f-4868-98cc-2d085b09b0de",
   "metadata": {},
   "outputs": [],
   "source": [
    "calc_cube(5)"
   ]
  },
  {
   "cell_type": "code",
   "execution_count": null,
   "id": "d513d069-a2de-4e42-8d9c-30bb1a81148f",
   "metadata": {},
   "outputs": [],
   "source": [
    "def my_func():\n",
    "    print(\"hello world\")"
   ]
  },
  {
   "cell_type": "code",
   "execution_count": 2,
   "id": "cd5390f3-eaa5-46a2-a5f5-d9e33be1e9df",
   "metadata": {},
   "outputs": [
    {
     "name": "stdout",
     "output_type": "stream",
     "text": [
      "{1: 'a', 2: 'c', 3: 'd'}\n"
     ]
    }
   ],
   "source": [
    "# unpacking \n",
    "d1 = {1: \"a\", 2: \"b\"}\n",
    "d2 = {2: \"c\", 3: \"d\"}\n",
    "d3 = {**d1, **d2}\n",
    "print(d3)"
   ]
  },
  {
   "cell_type": "code",
   "execution_count": 3,
   "id": "4522c484-2fde-43f1-bfe0-44d06ea9dbb4",
   "metadata": {},
   "outputs": [
    {
     "name": "stdout",
     "output_type": "stream",
     "text": [
      "1 2 a b\n"
     ]
    }
   ],
   "source": [
    "a, b, (c, d) = [1, 2, 'ab']\n",
    "print(a, b, c, d)"
   ]
  },
  {
   "cell_type": "code",
   "execution_count": null,
   "id": "75ebf4ad-6654-4b07-905e-c55eb1edc23c",
   "metadata": {},
   "outputs": [],
   "source": []
  }
 ],
 "metadata": {
  "kernelspec": {
   "display_name": "Python 3 (ipykernel)",
   "language": "python",
   "name": "python3"
  },
  "language_info": {
   "codemirror_mode": {
    "name": "ipython",
    "version": 3
   },
   "file_extension": ".py",
   "mimetype": "text/x-python",
   "name": "python",
   "nbconvert_exporter": "python",
   "pygments_lexer": "ipython3",
   "version": "3.8.12"
  }
 },
 "nbformat": 4,
 "nbformat_minor": 5
}
