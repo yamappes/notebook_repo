{
 "cells": [
  {
   "cell_type": "code",
   "execution_count": null,
   "id": "f39446d0-3e12-4c77-99e6-ba91971fc375",
   "metadata": {},
   "outputs": [],
   "source": [
    "import math"
   ]
  },
  {
   "cell_type": "code",
   "execution_count": null,
   "id": "aad55bdc-de98-4af3-85e7-ba7a065a5847",
   "metadata": {},
   "outputs": [],
   "source": [
    "print(math.pow(2, 2))"
   ]
  },
  {
   "cell_type": "code",
   "execution_count": null,
   "id": "28cacb00-d594-4555-b106-9c80e42886a9",
   "metadata": {},
   "outputs": [],
   "source": [
    "def calc_cube(a=0):\n",
    "    return a ** 3"
   ]
  },
  {
   "cell_type": "code",
   "execution_count": null,
   "id": "2fa2502d-8e8f-4868-98cc-2d085b09b0de",
   "metadata": {},
   "outputs": [],
   "source": [
    "calc_cube(4)"
   ]
  },
  {
   "cell_type": "code",
   "execution_count": null,
   "id": "d513d069-a2de-4e42-8d9c-30bb1a81148f",
   "metadata": {},
   "outputs": [],
   "source": []
  }
 ],
 "metadata": {
  "kernelspec": {
   "display_name": "Python 3 (ipykernel)",
   "language": "python",
   "name": "python3"
  },
  "language_info": {
   "codemirror_mode": {
    "name": "ipython",
    "version": 3
   },
   "file_extension": ".py",
   "mimetype": "text/x-python",
   "name": "python",
   "nbconvert_exporter": "python",
   "pygments_lexer": "ipython3",
   "version": "3.8.12"
  }
 },
 "nbformat": 4,
 "nbformat_minor": 5
}
